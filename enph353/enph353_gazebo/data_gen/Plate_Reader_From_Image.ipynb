{
 "cells": [
  {
   "cell_type": "markdown",
   "metadata": {
    "colab_type": "text",
    "id": "N8WCmIkoU1Oe"
   },
   "source": [
    "# **ENPH 353 Plate Reader**\n",
    "Once coordinates are found (assuming there are four corners in the image), the ML corner detector will pass the image along to this CNN. It will apply the inverse Perspective Transform and then Read the plate number and Location. "
   ]
  },
  {
   "cell_type": "code",
   "execution_count": 108,
   "metadata": {},
   "outputs": [
    {
     "name": "stdout",
     "output_type": "stream",
     "text": [
      "1.14.0\n"
     ]
    }
   ],
   "source": [
    "from __future__ import absolute_import, division, print_function, unicode_literals\n",
    "\n",
    "# TensorFlow and tf.keras\n",
    "import tensorflow as tf\n",
    "from tensorflow import keras\n",
    "print(tf.__version__)\n",
    "\n",
    "import math\n",
    "import numpy as np\n",
    "import re\n",
    "import os\n",
    "\n",
    "from collections import Counter\n",
    "from matplotlib import pyplot as plt\n",
    "from PIL import Image, ImageFont, ImageDraw\n",
    "\n",
    "from IPython.display import display\n",
    "from IPython.display import Image as _Imgdis\n",
    "from keras.preprocessing.image import ImageDataGenerator, array_to_img, img_to_array, load_img\n",
    "import cv2\n",
    "\n",
    "from random import randint\n",
    "from sklearn.model_selection import train_test_split\n",
    "import xml.etree.ElementTree as ET\n",
    "import random"
   ]
  },
  {
   "cell_type": "markdown",
   "metadata": {
    "colab_type": "text",
    "id": "m6uLJfP5zS0L"
   },
   "source": [
    "# Importing Plate Data as Numpy Array: \n",
    "Tutorial from https://www.kaggle.com/lgmoneda/from-image-files-to-numpy-arrays"
   ]
  },
  {
   "cell_type": "code",
   "execution_count": 215,
   "metadata": {
    "scrolled": true
   },
   "outputs": [
    {
     "name": "stdout",
     "output_type": "stream",
     "text": [
      "Length of 4 Cornered Images:  8\n",
      "Dataset shape:  (8, 500, 350)\n"
     ]
    }
   ],
   "source": [
    "\n",
    "#First part just gets the filenames and such ready:\n",
    "folder = \"./training_images\"\n",
    "onlyfiles = [f for f in os.listdir(folder) if os.path.isfile(os.path.join(folder, f))]\n",
    "filenames = [] # the image filename \n",
    "labels = []     # the label\n",
    "\n",
    "for _file in onlyfiles: # file names\n",
    "    if _file.split('.')[1] == 'xml':\n",
    "        filenames.append(_file)\n",
    "    \n",
    "# print (\"Files in train_files: %d\" % len(train_files))\n",
    "# print (train_files[0:2])\n",
    "# print (labels[0:2])\n",
    "\n",
    "\n",
    "# Only here do we start to atually take in images\n",
    "border = 50 # Determines how close the image crop is\n",
    "                 # Larger should give more leeway. Changes Bounding Boxes! \n",
    "res_x = 300\n",
    "res_y = int(res_x*1.5)\n",
    "\n",
    "nb_classes = 1\n",
    "\n",
    "dataset = np.ndarray(shape=(len(filenames), (res_y+border), (res_x+border)),\n",
    "                     dtype=np.short) # this just makes the empty array.\n",
    "\n",
    "Middle = 128.0\n",
    "j = 0\n",
    "# Here is where we must do the XML fun. \n",
    "for i in range(int(len(filenames)/100)):    ###### DIV BY 4\n",
    "    location = folder + \"/\" + filenames[i]\n",
    "\n",
    "    tree = ET.parse(location)\n",
    "    root = tree.getroot()\n",
    "\n",
    "    corners = 0\n",
    "    for exists in root.iter('exists'):\n",
    "        corners+= int(exists.text)\n",
    "        \n",
    "    if corners == 4: # applying cv2 transformations here, might get ugly\n",
    "        topleft = (0,0)\n",
    "        topright = (0,0)\n",
    "        bottomleft = (0,0)\n",
    "        bottomright = (0,0)\n",
    "        \n",
    "        for cord in root.findall('topleft'):\n",
    "            topleft = (int(cord.find('xcoord').text), int(cord.find('ycoord').text))\n",
    "        for cord in root.findall('topright'):\n",
    "            topright = (int(cord.find('xcoord').text), int(cord.find('ycoord').text))\n",
    "        for cord in root.findall('bottomleft'):\n",
    "            bottomleft = (int(cord.find('xcoord').text), int(cord.find('ycoord').text))\n",
    "        for cord in root.findall('bottomright'):\n",
    "            bottomright = (int(cord.find('xcoord').text), int(cord.find('ycoord').text))\n",
    "\n",
    "        pts1 = np.float32([[topleft[0],topleft[1]], \n",
    "                        [topright[0],topright[1]], \n",
    "                        [bottomleft[0],bottomleft[1]], \n",
    "                        [bottomright[0],bottomright[1]]]) #sorry\n",
    "        \n",
    "        pts2 = np.float32([[0,0], [res_x,0], [0,res_y], [res_x,res_y]])\n",
    "        pts2 += int(border/2)\n",
    "        \n",
    "        with np.nditer(pts1, op_flags=['readwrite']) as it:\n",
    "            for point in it:\n",
    "                point += random.randint(-5,5) # Adding error to perspective transform to simulate innacuracy\n",
    "        \n",
    "        M = cv2.getPerspectiveTransform(pts1, pts2)\n",
    "        \n",
    "        location2 = '.' + location.split('.')[1] + '.png'\n",
    "        im = cv2.imread(location2)\n",
    "        \n",
    "        dst = cv2.warpPerspective(im, M, (res_x+border,res_y+border))\n",
    "        \n",
    "        im_gray = cv2.cvtColor(dst, cv2.COLOR_BGR2GRAY) # wondering if some contrast would be nice here\n",
    "        dataset[i] = im_gray    \n",
    "        labels.append(filenames[i][5:16])\n",
    "        \n",
    "#         if j in range(0,15):\n",
    "#             im = cv2.circle(im, (topleft[0],topleft[1]), 1, (0,0,255), 30)\n",
    "#             im = cv2.circle(im, (topright[0],topright[1]), 1, (0,0,255), 30)\n",
    "#             im = cv2.circle(im, (bottomleft[0],bottomleft[1]), 1, (0,0,255), 30)\n",
    "#             im = cv2.circle(im, (bottomright[0],bottomright[1]), 1, (0,0,255), 30)\n",
    "            \n",
    "#             plt.figure()\n",
    "#             plt.imshow(im) \n",
    "#             plt.show()\n",
    "            \n",
    "#             plt.figure()\n",
    "#             plt.imshow(im_gray) \n",
    "#             plt.show()\n",
    "            \n",
    "        j += 1 \n",
    "      \n",
    "#         im_gray = (im_gray - Middle) / Middle\n",
    "\n",
    "\n",
    "print(\"Length of 4 Cornered Images: \", len(labels))\n",
    "dataset = dataset[0:len(labels)]\n",
    "print(\"Dataset shape: \", dataset.shape)"
   ]
  },
  {
   "cell_type": "markdown",
   "metadata": {
    "colab_type": "text",
    "id": "HC59lPwSBFRG"
   },
   "source": [
    "It works! We now a license plate with Labels \n",
    "Now: Split up the the indivudal characters. "
   ]
  },
  {
   "cell_type": "code",
   "execution_count": 234,
   "metadata": {},
   "outputs": [
    {
     "name": "stdout",
     "output_type": "stream",
     "text": [
      "(8, 5, 80, 80)\n",
      "B E 5\n",
      "X D 4\n",
      "V Z 1\n",
      "K E 2\n",
      "Q J 8\n",
      "G L 3\n",
      "I X 2\n",
      "G B 4\n"
     ]
    }
   ],
   "source": [
    "#Don't make anything too snug as there will be variation! \n",
    "pipe_x = 80\n",
    "pipe_y = 80\n",
    "letters = np.ndarray(shape=(len(labels), 5, pipe_y, pipe_x),\n",
    "                     dtype=np.float32)\n",
    "print (letters.shape)\n",
    "# this just makes the empty array for image files.\n",
    "\n",
    "#First let's find the appropriate location for the letters:\n",
    "plate1 = (340,40)\n",
    "plate2 = (340,100)\n",
    "plate3 = (340,180)\n",
    "plate4 = (340,250)\n",
    "location = (180,190)\n",
    "\n",
    "def feature_image(featureloc, scale=1):\n",
    "    Ypoint = featureloc[0]\n",
    "    Xpoint = featureloc[1]\n",
    "    Ydown   = slice(Ypoint,Ypoint+pipe_y*scale, scale)\n",
    "    Xacross = slice(Xpoint,Xpoint+pipe_x*scale, scale)\n",
    "    return dataset[:,Ydown,Xacross]\n",
    "\n",
    "letters[:,0] = feature_image(plate1)\n",
    "letters[:,1] = feature_image(plate2)\n",
    "letters[:,2] = feature_image(plate3)\n",
    "letters[:,3] = feature_image(plate4)\n",
    "letters[:,4] = feature_image(location, scale=2)\n",
    "\n",
    "\n",
    "\n",
    "#The Labels. For ros translational simplicity, I want each index here to represent an image. \n",
    "#This will be flattened but for now it just makes morse sense\n",
    "letterlabels = np.ndarray((len(labels), 5)) \n",
    "\n",
    "def toint(char):\n",
    "    if char.isalpha():\n",
    "        return ord(char) - 55 # A is 10, B is 11, ... Can use chr(65) to invert\n",
    "    else:\n",
    "        return int(char)\n",
    "\n",
    "def tochar(inty):\n",
    "    if inty < 10:\n",
    "        return str(inty)\n",
    "    else:\n",
    "        return chr(55+inty)\n",
    "    \n",
    "i = 0\n",
    "for label in labels:\n",
    "    letterlabels[i,0] = toint(label[0])\n",
    "    letterlabels[i,1] = toint(label[1])\n",
    "    letterlabels[i,2] = toint(label[2])\n",
    "    letterlabels[i,3] = toint(label[3])\n",
    "    letterlabels[i,4] = toint(label[10])\n",
    "    \n",
    "    print (label[0], label[1], label[10])\n",
    "    i+= 1 \n",
    "    \n",
    "\n"
   ]
  },
  {
   "cell_type": "markdown",
   "metadata": {},
   "source": [
    "Let's make a thing so we can look at how well we are doing with the cropping.\n",
    "Thanks google: https://www.tensorflow.org/tutorials/keras/classification"
   ]
  },
  {
   "cell_type": "code",
   "execution_count": 229,
   "metadata": {},
   "outputs": [
    {
     "ename": "TypeError",
     "evalue": "integer argument expected, got float",
     "output_type": "error",
     "traceback": [
      "\u001b[0;31m---------------------------------------------------------------------------\u001b[0m",
      "\u001b[0;31mTypeError\u001b[0m                                 Traceback (most recent call last)",
      "\u001b[0;32m<ipython-input-229-46fdb8429ea0>\u001b[0m in \u001b[0;36m<module>\u001b[0;34m()\u001b[0m\n\u001b[1;32m      9\u001b[0m \u001b[0;32mfor\u001b[0m \u001b[0mi\u001b[0m \u001b[0;32min\u001b[0m \u001b[0mrange\u001b[0m\u001b[0;34m(\u001b[0m\u001b[0mnum_rows\u001b[0m\u001b[0;34m)\u001b[0m\u001b[0;34m:\u001b[0m\u001b[0;34m\u001b[0m\u001b[0;34m\u001b[0m\u001b[0m\n\u001b[1;32m     10\u001b[0m     \u001b[0mplt\u001b[0m\u001b[0;34m.\u001b[0m\u001b[0msubplot\u001b[0m\u001b[0;34m(\u001b[0m\u001b[0mnum_rows\u001b[0m\u001b[0;34m,\u001b[0m \u001b[0mnum_cols\u001b[0m\u001b[0;34m,\u001b[0m \u001b[0mnum_cols\u001b[0m\u001b[0;34m*\u001b[0m\u001b[0mi\u001b[0m\u001b[0;34m+\u001b[0m\u001b[0;36m1\u001b[0m\u001b[0;34m)\u001b[0m \u001b[0;31m# 1 indexing\u001b[0m\u001b[0;34m\u001b[0m\u001b[0;34m\u001b[0m\u001b[0m\n\u001b[0;32m---> 11\u001b[0;31m     \u001b[0mplot_image\u001b[0m\u001b[0;34m(\u001b[0m\u001b[0mletters\u001b[0m\u001b[0;34m[\u001b[0m\u001b[0mi\u001b[0m\u001b[0;34m,\u001b[0m\u001b[0;36m0\u001b[0m\u001b[0;34m]\u001b[0m\u001b[0;34m,\u001b[0m \u001b[0mletterlabels\u001b[0m\u001b[0;34m[\u001b[0m\u001b[0mi\u001b[0m\u001b[0;34m,\u001b[0m\u001b[0;36m0\u001b[0m\u001b[0;34m]\u001b[0m\u001b[0;34m)\u001b[0m\u001b[0;34m\u001b[0m\u001b[0;34m\u001b[0m\u001b[0m\n\u001b[0m\u001b[1;32m     12\u001b[0m \u001b[0;34m\u001b[0m\u001b[0m\n\u001b[1;32m     13\u001b[0m     \u001b[0mplt\u001b[0m\u001b[0;34m.\u001b[0m\u001b[0msubplot\u001b[0m\u001b[0;34m(\u001b[0m\u001b[0mnum_rows\u001b[0m\u001b[0;34m,\u001b[0m \u001b[0mnum_cols\u001b[0m\u001b[0;34m,\u001b[0m \u001b[0mnum_cols\u001b[0m\u001b[0;34m*\u001b[0m\u001b[0mi\u001b[0m\u001b[0;34m+\u001b[0m\u001b[0;36m2\u001b[0m\u001b[0;34m)\u001b[0m\u001b[0;34m\u001b[0m\u001b[0;34m\u001b[0m\u001b[0m\n",
      "\u001b[0;32m<ipython-input-229-46fdb8429ea0>\u001b[0m in \u001b[0;36mplot_image\u001b[0;34m(img, title)\u001b[0m\n\u001b[1;32m      1\u001b[0m \u001b[0;32mdef\u001b[0m \u001b[0mplot_image\u001b[0m\u001b[0;34m(\u001b[0m\u001b[0mimg\u001b[0m\u001b[0;34m,\u001b[0m \u001b[0mtitle\u001b[0m\u001b[0;34m)\u001b[0m\u001b[0;34m:\u001b[0m\u001b[0;34m\u001b[0m\u001b[0;34m\u001b[0m\u001b[0m\n\u001b[1;32m      2\u001b[0m   \u001b[0mplt\u001b[0m\u001b[0;34m.\u001b[0m\u001b[0mimshow\u001b[0m\u001b[0;34m(\u001b[0m\u001b[0mimg\u001b[0m\u001b[0;34m)\u001b[0m\u001b[0;34m\u001b[0m\u001b[0;34m\u001b[0m\u001b[0m\n\u001b[0;32m----> 3\u001b[0;31m   \u001b[0mplt\u001b[0m\u001b[0;34m.\u001b[0m\u001b[0mtitle\u001b[0m\u001b[0;34m(\u001b[0m\u001b[0mtochar\u001b[0m\u001b[0;34m(\u001b[0m\u001b[0mtitle\u001b[0m\u001b[0;34m)\u001b[0m\u001b[0;34m)\u001b[0m\u001b[0;34m\u001b[0m\u001b[0;34m\u001b[0m\u001b[0m\n\u001b[0m\u001b[1;32m      4\u001b[0m \u001b[0;34m\u001b[0m\u001b[0m\n\u001b[1;32m      5\u001b[0m \u001b[0mnum_rows\u001b[0m \u001b[0;34m=\u001b[0m \u001b[0;36m10\u001b[0m \u001b[0;31m# i\u001b[0m\u001b[0;34m\u001b[0m\u001b[0;34m\u001b[0m\u001b[0m\n",
      "\u001b[0;32m<ipython-input-228-3c76ebbebe1d>\u001b[0m in \u001b[0;36mtochar\u001b[0;34m(inty)\u001b[0m\n\u001b[1;32m     43\u001b[0m         \u001b[0;32mreturn\u001b[0m \u001b[0mstr\u001b[0m\u001b[0;34m(\u001b[0m\u001b[0minty\u001b[0m\u001b[0;34m)\u001b[0m\u001b[0;34m\u001b[0m\u001b[0;34m\u001b[0m\u001b[0m\n\u001b[1;32m     44\u001b[0m     \u001b[0;32melse\u001b[0m\u001b[0;34m:\u001b[0m\u001b[0;34m\u001b[0m\u001b[0;34m\u001b[0m\u001b[0m\n\u001b[0;32m---> 45\u001b[0;31m         \u001b[0;32mreturn\u001b[0m \u001b[0mchr\u001b[0m\u001b[0;34m(\u001b[0m\u001b[0;36m55\u001b[0m\u001b[0;34m+\u001b[0m\u001b[0minty\u001b[0m\u001b[0;34m)\u001b[0m\u001b[0;34m\u001b[0m\u001b[0;34m\u001b[0m\u001b[0m\n\u001b[0m\u001b[1;32m     46\u001b[0m \u001b[0;34m\u001b[0m\u001b[0m\n\u001b[1;32m     47\u001b[0m \u001b[0mi\u001b[0m \u001b[0;34m=\u001b[0m \u001b[0;36m0\u001b[0m\u001b[0;34m\u001b[0m\u001b[0;34m\u001b[0m\u001b[0m\n",
      "\u001b[0;31mTypeError\u001b[0m: integer argument expected, got float"
     ]
    },
    {
     "data": {
      "image/png": "[encoded data removed]",
      "text/plain": [
       "<Figure size 720x1440 with 1 Axes>"
      ]
     },
     "metadata": {
      "needs_background": "light"
     },
     "output_type": "display_data"
    }
   ],
   "source": [
    "def plot_image(img, title):\n",
    "  plt.imshow(img)\n",
    "  plt.title(tochar(title))\n",
    "\n",
    "num_rows = 10 # i \n",
    "num_cols = 5 # 4 + 1\n",
    "\n",
    "plt.figure(figsize=(2*num_cols, 2*num_rows))\n",
    "for i in range(num_rows):\n",
    "    plt.subplot(num_rows, num_cols, num_cols*i+1) # 1 indexing\n",
    "    plot_image(letters[i,0], letterlabels[i,0])\n",
    "    \n",
    "    plt.subplot(num_rows, num_cols, num_cols*i+2)\n",
    "    plot_image(letters[i,1], letterlabels[i,1])\n",
    "    \n",
    "    plt.subplot(num_rows, num_cols, num_cols*i+3) \n",
    "    plot_image(letters[i,2], letterlabels[i,2])\n",
    "    \n",
    "    plt.subplot(num_rows, num_cols, num_cols*i+4)\n",
    "    plot_image(letters[i,3], letterlabels[i,3])\n",
    "    \n",
    "    plt.subplot(num_rows, num_cols, num_cols*i+5)\n",
    "    plot_image(letters[i,4], letterlabels[i,4])\n",
    "plt.tight_layout()\n",
    "plt.show()\n"
   ]
  },
  {
   "cell_type": "code",
   "execution_count": 0,
   "metadata": {},
   "outputs": [],
   "source": [
    "# Data is ready for ML processing\n",
    "# Data: letters (4N, 40, 30)\n",
    "# Labels: letternumbers, length 4N with 0 <= letternumbers[i] < 36\n",
    "\n",
    "x_train, x_test, y_train, y_test = train_test_split(letters, letternumbers, test_size=0.33)\n",
    "\n",
    "# x_train = X_train.reshape(X_train.shape[0], 40, 30, 1)\n",
    "# x_test = X_test.reshape(X_test.shape[0], 40, 30, 1)\n",
    "\n",
    "print(x_train.shape)\n",
    "print(x_test.shape)\n",
    "print(len(y_train))\n",
    "\n",
    "\n",
    "model = keras.Sequential([\n",
    "    keras.layers.Conv2D(64, kernel_size=3, activation='relu', input_shape=(40,30,1)),\n",
    "    keras.layers.Conv2D(32, kernel_size=3, activation='relu'),\n",
    "    keras.layers.Flatten(),\n",
    "    keras.layers.Dense(36, activation='softmax')\n",
    "    # keras.layers.Flatten(input_shape=(40, 30)),\n",
    "    # keras.layers.Dense(128, activation='relu'),\n",
    "    # keras.layers.Dense(36, activation='softmax')\n",
    "])\n",
    "\n",
    "model.compile(optimizer='adam',\n",
    "              loss='sparse_categorical_crossentropy',\n",
    "              metrics=['accuracy'])\n",
    "\n",
    "model.fit(x_train, y_train, epochs=10)\n",
    "\n",
    "test_loss, test_acc = model.evaluate(X_test, y_test, verbose=2)\n",
    "\n",
    "print('\\nTest accuracy:', test_acc)"
   ]
  },
  {
   "cell_type": "code",
   "execution_count": 0,
   "metadata": {},
   "outputs": [],
   "source": [
    "#Below is predicted Data! \n",
    "\n",
    "predictions = model.predict(X_test)\n",
    "\n",
    "for i in range(10):\n",
    "  a = np.argmax(predictions[i])\n",
    "  if a < 10:\n",
    "    print(a)\n",
    "  else:\n",
    "    print(chr(a+55))\n",
    "  plt.figure()\n",
    "  plt.imshow(X_test[i])\n",
    "  plt.show()\n",
    "  "
   ]
  }
 ],
 "metadata": {
  "colab": {
   "collapsed_sections": [],
   "name": "Plate_Reader_From_Image.ipynb",
   "provenance": [],
   "toc_visible": true
  },
  "kernelspec": {
   "display_name": "Python 2",
   "language": "python",
   "name": "python2"
  },
  "language_info": {
   "codemirror_mode": {
    "name": "ipython",
    "version": 2
   },
   "file_extension": ".py",
   "mimetype": "text/x-python",
   "name": "python",
   "nbconvert_exporter": "python",
   "pygments_lexer": "ipython2",
   "version": "2.7.15+"
  }
 },
 "nbformat": 4,
 "nbformat_minor": 1
}
